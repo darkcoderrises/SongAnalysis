{
 "cells": [
  {
   "cell_type": "code",
   "execution_count": 1,
   "metadata": {},
   "outputs": [],
   "source": [
    "import cPickle as pickle\n",
    "from download_songs import BinacaYear, Song\n",
    "import glob\n",
    "import collections\n",
    "import matplotlib\n",
    "import matplotlib.pyplot as plt\n",
    "import numpy as np\n",
    "from nltk.tokenize import word_tokenize\n",
    "from litcm import LIT\n",
    "import sys\n",
    "default_stdout = sys.stdout\n",
    "default_stderr = sys.stderr\n",
    "reload(sys)\n",
    "sys.stdout = default_stdout\n",
    "sys.stderr = default_stderr\n",
    "sys.setdefaultencoding('utf-8')\n",
    "lit = LIT(labels=['hin', 'eng'], transliteration=True)"
   ]
  },
  {
   "cell_type": "code",
   "execution_count": 2,
   "metadata": {},
   "outputs": [],
   "source": [
    "def analyse(by):\n",
    "    word_list = collections.defaultdict(float)\n",
    "    \n",
    "    for song in by.songs:\n",
    "        tokens = word_tokenize(song.lyrics)\n",
    "        for word in tokens:\n",
    "            word_list[word] += 1\n",
    "    \n",
    "    total_words = sum(word_list.values())\n",
    "    word_list = {k: v/total_words for k, v in word_list.iteritems()}\n",
    "    return word_list\n"
   ]
  },
  {
   "cell_type": "code",
   "execution_count": 2,
   "metadata": {},
   "outputs": [],
   "source": [
    "binaca_year = {}\n",
    "for i in glob.glob(\"./songs/*.p\"):\n",
    "    binaca_year[int(i[-6:-2])] = pickle.load(open(i, \"rb\"))\n",
    "    \n",
    "    \n",
    "excel = \"\"\n",
    "for by in binaca_year.values():\n",
    "    for song in by.songs:\n",
    "        excel += song.lyrics\n",
    "        excel += '\\n'\n",
    "\n",
    "f = open('binaca_songs.csv', 'wb+')\n",
    "f.write(excel)\n",
    "f.close()"
   ]
  },
  {
   "cell_type": "code",
   "execution_count": 4,
   "metadata": {},
   "outputs": [],
   "source": [
    "binaca_dict = {}\n",
    "for year in binaca_year.keys():\n",
    "    binaca_dict[year] = analyse(binaca_year[year])\n"
   ]
  },
  {
   "cell_type": "code",
   "execution_count": 33,
   "metadata": {},
   "outputs": [],
   "source": [
    "from nltk.corpus import stopwords\n",
    "stopWords = set(stopwords.words('english'))\n",
    "for i in open('hindi_stopwords.txt', 'r').read().split('\\n'):\n",
    "    stopWords.add(i[:-1])\n",
    "    \n",
    "vocab = set()\n",
    "for keys in binaca_dict.values():\n",
    "    for i in keys.keys():\n",
    "        vocab.add(i)\n",
    "\n",
    "final_list = set()\n",
    "for i in vocab:\n",
    "    local_word = i\n",
    "    try:\n",
    "        local_word = lit.identify(i).split('=')[1][:-1]\n",
    "        flag = False\n",
    "        for j in stopWords:\n",
    "            if local_word == j:\n",
    "                flag = True\n",
    "        if not flag:\n",
    "            final_list.add(i)\n",
    "    except:\n",
    "        if not i in stopWords:\n",
    "            final_list.add(i)"
   ]
  },
  {
   "cell_type": "code",
   "execution_count": 35,
   "metadata": {},
   "outputs": [],
   "source": [
    "def combine_dict(year_range):\n",
    "    d = collections.defaultdict(float)\n",
    "    for year in year_range:\n",
    "        for k, v in binaca_dict[year].iteritems():\n",
    "            if k in final_list:\n",
    "                d[k] += v\n",
    "    return d\n",
    "\n",
    "def get_top_n_words(n, year_range):\n",
    "    d = combine_dict(year_range)\n",
    "    m = [[v, k] for k, v in d.iteritems()]\n",
    "    m.sort(reverse=True)\n",
    "    return set(map(lambda i: i[1], m[n]))"
   ]
  },
  {
   "cell_type": "code",
   "execution_count": 7,
   "metadata": {},
   "outputs": [
    {
     "data": {
      "image/png": "[encoded data removed]",
      "text/plain": [
       "<matplotlib.figure.Figure at 0x7ff0567e6550>"
      ]
     },
     "metadata": {},
     "output_type": "display_data"
    }
   ],
   "source": [
    "d = binaca_dict[1954]\n",
    "m = [(v, k) for k, v in d.iteritems()]\n",
    "m.sort(reverse=True)\n",
    "x = range(len(m))\n",
    "plt.bar(x, map(lambda i: i[0], m), 1/1.5, color=\"blue\")\n",
    "plt.xticks(x, map(lambda i: i[1], m))\n",
    "plt.show()"
   ]
  },
  {
   "cell_type": "code",
   "execution_count": 37,
   "metadata": {},
   "outputs": [
    {
     "name": "stdout",
     "output_type": "stream",
     "text": [
      "badal , jaago , haay , nain , haiyya , kaun , jiya , & , wah , kahe , dur , mohabbat , gam , piya , apna , zara , dana , rahe , karu , ai , hame , kare , maama , hun , aankho , tumhe , thi ,\n",
      "---------------------------------------------------------------------------------\n",
      "baat , hay , jayenge , aayi , bas , chhod , naam , ru , sun , yaad , om , hoga , yaar , cha , hari , jana , ik , chali , nam , sath , pal , kam , jaan , aisa , aise , bina , sa ,\n"
     ]
    }
   ],
   "source": [
    "#see how words changed over time\n",
    "\n",
    "s_v = slice(0, 100)\n",
    "seta = get_top_n_words(s_v, range(1955, 1965))\n",
    "setb = get_top_n_words(s_v, range(1973, 1983))\n",
    "\n",
    "for i in seta:\n",
    "    if i not in setb:\n",
    "        print i, ',',\n",
    "print\n",
    "print '-' * 81\n",
    "\n",
    "for i in setb:\n",
    "    if i not in seta:\n",
    "        print i, ',',\n",
    "print"
   ]
  },
  {
   "cell_type": "code",
   "execution_count": 42,
   "metadata": {},
   "outputs": [
    {
     "name": "stdout",
     "output_type": "stream",
     "text": [
      "jaadu , hindustani , bhee , aasman , bhala , pyare , jaag , bichhua , utha , khwaab , jan , upar , dhire , pasina , leke , jiwan , jaago , aadhee , 2 , aana , pyara , bago , chaand , garibon , gagan , dekhe , kyun , bah , kya-kya , pade , haar , dole , nain , gul , jamuna , ichak , prit , pahla , ( , kahee , nache , raahi , tufan , saiya , haiyya , khoya , panchhi , roye , bam , & , sahi , haa , mann , zamana , wala , singapur , diye , saval , nashe , bhayo , nadiya , wah , abdul , barkhaa , bura , mora , pukare , jamin , manzil , tufaan , gayo , bhigi , chaman , aaun , dana , chhoti , najar , dadi-amma , ras , maama , ) , - , bade , tir , sikh , tim , mast , naye , inasan , aanchal , nai , jaae , safar , chamka , paar , meree , peeke , kho , desh ,\n",
      "---------------------------------------------------------------------------------\n",
      "chain , sathi , ganga , yippi , hotho , jindagi , li , saayonara , jaayege , raste , muhabbat , fat , mehabub , maan , chaal , der , lala , sham , samajh , git , sada , hare , aah , mara , haan , husn , pani , kiye , vada , chhodo , waali , buddha , diwana , aati , hamari , aayegi , jawan , tun , tujhako , janun , bol , tik-tik , sabko , rama , kitne , teraa , kyon , dukh , sapne , daman , tumhare , hosh , tumhari , naina , kabutar , ladki , vaqt , pi , tod , baba , tauba , hamko , uljhe , sona , ud , bachche , jahaan , gale , chaahe , tumhara , khabar , tujhko , dulhan , akele , akela , doli , banaya , hoy , lag , jaiyega , aankhe , hamse , aankh , hogaa , paas , surat , kaam , mod ,\n",
      "---------------------------------------------------------------------------------\n",
      "premi , gali , mehbuba , shor , fifty , sima , aha , haseen , janeman , kadam , mandir , mahangaai , tham , badan , bin , marzi , sone , khushi , dam , jayenge , jadu , tulsi , maar , chiz , gyan , miya , disco , paise , hoon , jaana , shaan , milan , rab , geeta , ru , laila , hone , ra , aate , vala , tut , baras , kahani , mehfil , albata , bandh , jate , jayegi , log , om , shanti , yaro , rambha , chana , dafali , yaar , bhai , sapno , dushman , dono , prem , cha , hari , sara , jaati , achchha , haaye , chaahiye , aadha , jijaji , aangan , lina , kasam , fark , oh , nina , khadi , ae , kurbani , sawan , hoo , tara , shaadi , pine , meghaa , kanya , public , gum , salaam , jaam , i , parda , khidki ,\n"
     ]
    }
   ],
   "source": [
    "#see how words changed over time\n",
    "\n",
    "s_v = slice(0, 300)\n",
    "seta = get_top_n_words(s_v, range(1954, 1963))\n",
    "setb = get_top_n_words(s_v, range(1964, 1973))\n",
    "setc = get_top_n_words(s_v, range(1974, 1983))\n",
    "\n",
    "for i in seta:\n",
    "    if i not in setb and i not in setc:\n",
    "        print i, ',',\n",
    "print\n",
    "print '-' * 81\n",
    "\n",
    "for i in setb:\n",
    "    if i not in seta and i not in setc:\n",
    "        print i, ',',\n",
    "print\n",
    "print '-' * 81\n",
    "\n",
    "for i in setc:\n",
    "    if i not in seta and i not in setb:\n",
    "        print i, ',',"
   ]
  },
  {
   "cell_type": "code",
   "execution_count": 9,
   "metadata": {},
   "outputs": [
    {
     "name": "stderr",
     "output_type": "stream",
     "text": [
      "Failed to load GPU Faiss: No module named swigfaiss_gpu\n",
      "Faiss falling back to CPU-only.\n"
     ]
    }
   ],
   "source": [
    "import sys\n",
    "sys.path.insert(0, \"/home/harshil/Apps/faiss/\")\n",
    "import faiss"
   ]
  },
  {
   "cell_type": "code",
   "execution_count": 10,
   "metadata": {},
   "outputs": [],
   "source": [
    "year_data = np.zeros([len(binaca_dict.keys()), len(vocab)]).astype('float32')\n",
    "\n",
    "word_key = dict()\n",
    "for i, val in enumerate(vocab):\n",
    "    word_key[val] = i\n",
    "\n",
    "for year in binaca_year.keys():\n",
    "    for k, v in binaca_dict[year].iteritems():\n",
    "        year_data[year-min(binaca_dict.keys())][word_key[k]] = float(v)\n",
    "\n",
    "year_data = np.ascontiguousarray(year_data.T)"
   ]
  },
  {
   "cell_type": "code",
   "execution_count": 11,
   "metadata": {},
   "outputs": [],
   "source": [
    "k = 10\n",
    "index = faiss.IndexFlatL2(year_data.shape[1])\n",
    "index.add(year_data)\n",
    "D, I = index.search(year_data, k+1)\n",
    "pickle.dump(I, open('indexes.p', 'wb+'))"
   ]
  },
  {
   "cell_type": "code",
   "execution_count": 7,
   "metadata": {},
   "outputs": [],
   "source": [
    "I = pickle.load(open('indexes.p', 'rb+'))"
   ]
  },
  {
   "cell_type": "code",
   "execution_count": 8,
   "metadata": {},
   "outputs": [],
   "source": [
    "import networkx as nx\n",
    "G=nx.Graph()\n",
    "G.add_nodes_from(range(len(vocab)))\n",
    "\n",
    "for i in range(len(vocab)):\n",
    "    for j in I[i]:\n",
    "        if j == i:\n",
    "            continue\n",
    "        G.add_edge(i, j)"
   ]
  },
  {
   "cell_type": "code",
   "execution_count": 9,
   "metadata": {},
   "outputs": [
    {
     "name": "stdout",
     "output_type": "stream",
     "text": [
      "hindustani\n",
      "desh dir rona radhika bhigi abhi dadi-amma madhuban saval nasha\n"
     ]
    }
   ],
   "source": [
    "def print_i(j):\n",
    "    print vocab[j]\n",
    "    for i in G.neighbors(j):\n",
    "        print vocab[i],\n",
    "\n",
    "print_i(1732)"
   ]
  },
  {
   "cell_type": "code",
   "execution_count": 10,
   "metadata": {},
   "outputs": [],
   "source": [
    "from sklearn.cluster import SpectralClustering\n",
    "from sklearn import metrics"
   ]
  },
  {
   "cell_type": "code",
   "execution_count": 11,
   "metadata": {},
   "outputs": [
    {
     "data": {
      "text/plain": [
       "1732"
      ]
     },
     "execution_count": 11,
     "metadata": {},
     "output_type": "execute_result"
    }
   ],
   "source": [
    "vocab.index('hindustani')"
   ]
  },
  {
   "cell_type": "code",
   "execution_count": 12,
   "metadata": {},
   "outputs": [
    {
     "name": "stderr",
     "output_type": "stream",
     "text": [
      "/home/harshil.goel/.local/lib/python2.7/site-packages/sklearn/manifold/spectral_embedding_.py:234: UserWarning: Graph is not fully connected, spectral embedding may not work as expected.\n",
      "  warnings.warn(\"Graph is not fully connected, spectral embedding\"\n"
     ]
    },
    {
     "name": "stdout",
     "output_type": "stream",
     "text": [
      "spectral clustering\n",
      "[32 26  2 ..., 79  2 78]\n"
     ]
    }
   ],
   "source": [
    "adj_mat = nx.to_numpy_matrix(G)\n",
    "sc = SpectralClustering(100, affinity='precomputed', eigen_solver='arpack')\n",
    "sc.fit(adj_mat)\n",
    "\n",
    "print('spectral clustering')\n",
    "print(sc.labels_)"
   ]
  },
  {
   "cell_type": "code",
   "execution_count": 13,
   "metadata": {},
   "outputs": [],
   "source": [
    "pickle.dump(sc, open('sc.p', 'wb+'))"
   ]
  },
  {
   "cell_type": "code",
   "execution_count": 25,
   "metadata": {},
   "outputs": [
    {
     "name": "stdout",
     "output_type": "stream",
     "text": [
      "gayee\n",
      "want\n",
      "shivam\n",
      "ghadi\n",
      "shala\n",
      "jani\n",
      "jaise-taise\n",
      "say\n",
      "zor\n",
      "kamare\n",
      "taram\n",
      "dana-dan\n",
      "upar-niche\n",
      "aai\n",
      "play\n",
      "jhula\n",
      "tam\n",
      "yammaa\n",
      "ui\n",
      "jisaki\n",
      "jiyraa\n",
      "dushmano\n",
      "we\n",
      "janaab-e-aali\n",
      "nafarat\n",
      "duje\n",
      "mitva\n",
      "marzi\n",
      "tara-ram-pam-pam-pam-pam\n",
      "chameli\n",
      "mazedar\n",
      "samaa\n",
      "humsa\n",
      "satyam\n",
      "gahraa\n",
      "sundram\n",
      "shan\n",
      "jamke\n",
      "naati\n",
      "shamasha\n",
      "nikhar\n",
      "shaan\n",
      "lambi\n",
      "aapka\n",
      "pakde\n",
      "chana\n",
      "bane\n",
      "paw\n",
      "dont\n",
      "lui\n",
      "tamasha\n",
      "aahan\n",
      "naseeb\n",
      "kisme\n",
      "sipahi\n",
      "gulashan\n",
      "khilaunga\n",
      "each\n",
      "yak-b-yak\n",
      "angane\n",
      "garam\n",
      "qisamat\n",
      "shamil\n",
      "aha\n",
      "khilega\n",
      "rakhta\n",
      "other\n",
      "chhu\n",
      "jodta\n",
      "come\n",
      "khudgarzi\n",
      "bhai\n",
      "bara\n",
      "rambha\n",
      "mewa\n",
      "jnardan\n",
      "joh\n",
      "jon\n",
      "know\n",
      "khubasurat\n"
     ]
    }
   ],
   "source": [
    "for i, val in enumerate(sc):\n",
    "    if val == 99:\n",
    "        print vocab[i]"
   ]
  },
  {
   "cell_type": "code",
   "execution_count": null,
   "metadata": {},
   "outputs": [],
   "source": []
  }
 ],
 "metadata": {
  "kernelspec": {
   "display_name": "Python 2",
   "language": "python",
   "name": "python2"
  },
  "language_info": {
   "codemirror_mode": {
    "name": "ipython",
    "version": 2
   },
   "file_extension": ".py",
   "mimetype": "text/x-python",
   "name": "python",
   "nbconvert_exporter": "python",
   "pygments_lexer": "ipython2",
   "version": "2.7.12"
  }
 },
 "nbformat": 4,
 "nbformat_minor": 2
}
